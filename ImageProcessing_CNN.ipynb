{
 "cells": [
  {
   "cell_type": "code",
   "execution_count": null,
   "id": "0a23c985-af16-4604-9cd6-9c117b2fc151",
   "metadata": {},
   "outputs": [],
   "source": [
    "# Import necessary libraries\n",
    "import tensorflow as tf\n",
    "from tensorflow.keras import layers, models\n",
    "from tensorflow.keras.datasets import cifar10\n",
    "import matplotlib.pyplot as plt"
   ]
  },
  {
   "cell_type": "code",
   "execution_count": null,
   "id": "79deed32-02e4-4645-8db9-43fcc3ae913c",
   "metadata": {},
   "outputs": [],
   "source": [
    "# 1. Load and Preprocess the CIFAR-10 Dataset\n",
    "# Load the CIFAR-10 dataset\n",
    "(x_train, y_train), (x_test, y_test) = cifar10.load_data()"
   ]
  },
  {
   "cell_type": "code",
   "execution_count": null,
   "id": "69ba15fa-eb79-4d4e-8f32-768b248dc001",
   "metadata": {},
   "outputs": [],
   "source": [
    "# Normalize the pixel values to be between 0 and 1\n",
    "x_train = x_train.astype('float32') / 255.0\n",
    "x_test = x_test.astype('float32') / 255.0"
   ]
  },
  {
   "cell_type": "code",
   "execution_count": null,
   "id": "245ae682-638c-431c-ba6e-1ba895cf3f86",
   "metadata": {},
   "outputs": [],
   "source": [
    "# Convert labels to one-hot encoded vectors\n",
    "y_train = tf.keras.utils.to_categorical(y_train, 10)\n",
    "y_test = tf.keras.utils.to_categorical(y_test, 10)"
   ]
  },
  {
   "cell_type": "code",
   "execution_count": null,
   "id": "f099dda4-4776-4a40-8d42-1da589f2d27e",
   "metadata": {},
   "outputs": [],
   "source": [
    "# 2. Build the CNN Model\n",
    "model = models.Sequential()"
   ]
  },
  {
   "cell_type": "code",
   "execution_count": null,
   "id": "d61817ef-0161-4da5-9737-4cff819ab357",
   "metadata": {},
   "outputs": [],
   "source": [
    "# Add a convolutional layer with 32 filters, kernel size of 3x3, and ReLU activation\n",
    "model.add(layers.Conv2D(32, (3, 3), activation='relu', input_shape=(32, 32, 3)))"
   ]
  },
  {
   "cell_type": "code",
   "execution_count": null,
   "id": "b91f6db7-3789-46a3-977a-ec241ac0d0ea",
   "metadata": {},
   "outputs": [],
   "source": [
    "# Add a max pooling layer with pool size of 2x2\n",
    "model.add(layers.MaxPooling2D((2, 2)))"
   ]
  },
  {
   "cell_type": "code",
   "execution_count": null,
   "id": "1536a593-04eb-4f89-8aad-c35bdf28f6d0",
   "metadata": {},
   "outputs": [],
   "source": [
    "# Add a second convolutional layer with 64 filters\n",
    "model.add(layers.Conv2D(64, (3, 3), activation='relu'))\n",
    "model.add(layers.MaxPooling2D((2, 2)))"
   ]
  },
  {
   "cell_type": "code",
   "execution_count": null,
   "id": "ba3db351-125f-4a78-a495-69afeca033d0",
   "metadata": {},
   "outputs": [],
   "source": [
    "# Add a third convolutional layer with 64 filters\n",
    "model.add(layers.Conv2D(64, (3, 3), activation='relu'))"
   ]
  },
  {
   "cell_type": "code",
   "execution_count": null,
   "id": "dfc2b109-476e-4d55-ab3f-79b9bc82a816",
   "metadata": {},
   "outputs": [],
   "source": [
    "# Flatten the output to feed into fully connected layers\n",
    "model.add(layers.Flatten())"
   ]
  },
  {
   "cell_type": "code",
   "execution_count": null,
   "id": "a89416fb-5d66-441e-83d7-39accaeb3476",
   "metadata": {},
   "outputs": [],
   "source": [
    "# Add a fully connected (dense) layer with 64 units and ReLU activation\n",
    "model.add(layers.Dense(64, activation='relu'))"
   ]
  },
  {
   "cell_type": "code",
   "execution_count": null,
   "id": "23c55c69-20fd-446a-a25b-805d7c576d40",
   "metadata": {},
   "outputs": [],
   "source": [
    "# Add the output layer with 10 units and softmax activation (for 10 classes)\n",
    "model.add(layers.Dense(10, activation='softmax'))"
   ]
  },
  {
   "cell_type": "code",
   "execution_count": null,
   "id": "fe0887c7-76ea-4ed0-9b5f-9563cf4cd23a",
   "metadata": {},
   "outputs": [],
   "source": [
    "# 3. Compile the Model\n",
    "model.compile(optimizer='adam',\n",
    "              loss='categorical_crossentropy',\n",
    "              metrics=['accuracy'])\n"
   ]
  },
  {
   "cell_type": "code",
   "execution_count": null,
   "id": "cef679e5-ead1-4891-808b-79fe84e2cfaa",
   "metadata": {},
   "outputs": [],
   "source": [
    "# 4. Train the Model\n",
    "# Train the model with 10 epochs and validate on the test data\n",
    "history = model.fit(x_train, y_train, epochs=10, validation_data=(x_test, y_test))\n"
   ]
  },
  {
   "cell_type": "code",
   "execution_count": null,
   "id": "31513adb-ba91-4841-a78a-69f63f968de5",
   "metadata": {},
   "outputs": [],
   "source": [
    "# 5. Evaluate the Model\n",
    "# Evaluate the model on test data\n",
    "test_loss, test_acc = model.evaluate(x_test, y_test)"
   ]
  },
  {
   "cell_type": "code",
   "execution_count": null,
   "id": "128b34ac-4c00-4c8d-9e43-7bc26d605106",
   "metadata": {},
   "outputs": [],
   "source": [
    "# Print the test accuracy\n",
    "print(f'Test accuracy: {test_acc:.4f}')"
   ]
  },
  {
   "cell_type": "code",
   "execution_count": null,
   "id": "e0f00512-a59a-4488-9d52-c4c7a75d6361",
   "metadata": {},
   "outputs": [],
   "source": [
    "# 6. Plot training & validation accuracy\n",
    "plt.plot(history.history['accuracy'], label='accuracy')\n",
    "plt.plot(history.history['val_accuracy'], label='val_accuracy')\n",
    "plt.xlabel('Epoch')\n",
    "plt.ylabel('Accuracy')\n",
    "plt.ylim([0, 1])\n",
    "plt.legend(loc='lower right')\n",
    "plt.show()"
   ]
  },
  {
   "cell_type": "code",
   "execution_count": null,
   "id": "27d20ae9-fd9c-4b5d-bd7f-f75bdf61a87f",
   "metadata": {},
   "outputs": [],
   "source": []
  },
  {
   "cell_type": "code",
   "execution_count": null,
   "id": "8c746b29-a8a4-4673-8516-64df872da265",
   "metadata": {},
   "outputs": [],
   "source": []
  }
 ],
 "metadata": {
  "kernelspec": {
   "display_name": "Python 3 (ipykernel)",
   "language": "python",
   "name": "python3"
  },
  "language_info": {
   "codemirror_mode": {
    "name": "ipython",
    "version": 3
   },
   "file_extension": ".py",
   "mimetype": "text/x-python",
   "name": "python",
   "nbconvert_exporter": "python",
   "pygments_lexer": "ipython3",
   "version": "3.10.14"
  }
 },
 "nbformat": 4,
 "nbformat_minor": 5
}
